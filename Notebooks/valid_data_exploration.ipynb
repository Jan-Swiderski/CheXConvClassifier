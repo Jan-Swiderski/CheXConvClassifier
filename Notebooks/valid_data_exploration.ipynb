{
 "cells": [
  {
   "cell_type": "code",
   "execution_count": 1,
   "metadata": {},
   "outputs": [],
   "source": [
    "import os\n",
    "import pandas as pd\n",
    "import numpy as np\n",
    "from PIL import Image\n",
    "from PIL.ExifTags import TAGS\n",
    "from dotenv import load_dotenv\n",
    "import matplotlib.pyplot as plt"
   ]
  },
  {
   "cell_type": "code",
   "execution_count": 2,
   "metadata": {},
   "outputs": [
    {
     "name": "stderr",
     "output_type": "stream",
     "text": [
      "Python-dotenv could not parse statement starting at line 1\n"
     ]
    }
   ],
   "source": [
    "load_dotenv()\n",
    "chexpert_root = os.getenv('PATH_TO_CHEXPERT_ROOT')\n",
    "valid_data_dirname = \"valid_data\"\n",
    "raw_valid_data_info_filename = \"raw_valid_data_info.csv\"\n",
    "data_stats_dirname = \"data_stats\""
   ]
  },
  {
   "cell_type": "code",
   "execution_count": 3,
   "metadata": {},
   "outputs": [],
   "source": [
    "raw_valid_data_info = pd.read_csv(os.path.join(chexpert_root, raw_valid_data_info_filename))"
   ]
  },
  {
   "cell_type": "code",
   "execution_count": 4,
   "metadata": {},
   "outputs": [],
   "source": [
    "# valid_ims_widths = []\n",
    "# valid_ims_heights = []\n",
    "# valid_ims_min_pixvals = []\n",
    "# valid_ims_max_pixvals = []\n",
    "# valid_ims_modes = []\n",
    "\n",
    "# for index, row in raw_valid_data_info.iterrows():\n",
    "#     image = Image.open(os.path.join(chexpert_root, valid_data_dirname, raw_valid_data_info.loc[index][\"Path\"]))\n",
    "\n",
    "#     valid_ims_modes.append(image.mode)\n",
    "\n",
    "#     image_width, image_height = image.size\n",
    "#     valid_ims_widths.append(image_width)\n",
    "#     valid_ims_heights.append(image_height)\n",
    "\n",
    "#     min_pixval, max_pixval = image.getextrema()\n",
    "#     valid_ims_min_pixvals.append(min_pixval)\n",
    "#     valid_ims_max_pixvals.append(max_pixval)"
   ]
  },
  {
   "cell_type": "code",
   "execution_count": 5,
   "metadata": {},
   "outputs": [
    {
     "name": "stdout",
     "output_type": "stream",
     "text": [
      "Stored 'valid_ims_widths' (list)\n",
      "Stored 'valid_ims_heights' (list)\n",
      "Stored 'valid_ims_min_pixvals' (list)\n",
      "Stored 'valid_ims_max_pixvals' (list)\n",
      "Stored 'valid_ims_modes' (list)\n"
     ]
    }
   ],
   "source": [
    "# %store valid_ims_widths valid_ims_heights valid_ims_min_pixvals valid_ims_max_pixvals valid_ims_modes"
   ]
  },
  {
   "cell_type": "code",
   "execution_count": 5,
   "metadata": {},
   "outputs": [],
   "source": [
    "%store -r valid_ims_widths valid_ims_heights valid_ims_min_pixvals valid_ims_max_pixvals valid_ims_modes"
   ]
  },
  {
   "cell_type": "code",
   "execution_count": 6,
   "metadata": {},
   "outputs": [],
   "source": [
    "valid_ims_widths = np.array(valid_ims_widths)\n",
    "valid_ims_heights = np.array(valid_ims_heights)\n",
    "valid_ims_min_pixvals = np.array(valid_ims_min_pixvals)\n",
    "valid_ims_max_pixvals = np.array(valid_ims_max_pixvals)\n",
    "valid_ims_modes = np.array(valid_ims_modes)"
   ]
  },
  {
   "cell_type": "code",
   "execution_count": 9,
   "metadata": {},
   "outputs": [],
   "source": [
    "# np.save(os.path.join(chexpert_root, data_stats_dirname, \"valid_ims_widths\"), valid_ims_widths)\n",
    "# np.save(os.path.join(chexpert_root, data_stats_dirname, \"valid_ims_heights\"), valid_ims_heights)\n",
    "# np.save(os.path.join(chexpert_root, data_stats_dirname, \"valid_ims_min_pixvals\"), valid_ims_min_pixvals)\n",
    "# np.save(os.path.join(chexpert_root, data_stats_dirname, \"valid_ims_max_pixvals\"), valid_ims_max_pixvals)\n",
    "# np.save(os.path.join(chexpert_root, data_stats_dirname, \"valid_ims_modes\"), valid_ims_modes)"
   ]
  },
  {
   "cell_type": "code",
   "execution_count": 7,
   "metadata": {},
   "outputs": [],
   "source": [
    "valid_ims_widths = np.load(os.path.join(chexpert_root, data_stats_dirname, \"valid_ims_widths.npy\"))\n",
    "valid_ims_heights = np.load(os.path.join(chexpert_root, data_stats_dirname, \"valid_ims_heights.npy\"))\n",
    "valid_ims_min_pixvals = np.load(os.path.join(chexpert_root, data_stats_dirname, \"valid_ims_min_pixvals.npy\"))\n",
    "valid_ims_max_pixvals = np.load(os.path.join(chexpert_root, data_stats_dirname, \"valid_ims_max_pixvals.npy\"))\n",
    "valid_ims_modes = np.load(os.path.join(chexpert_root, data_stats_dirname, \"valid_ims_modes.npy\"))"
   ]
  },
  {
   "cell_type": "code",
   "execution_count": 5,
   "metadata": {},
   "outputs": [
    {
     "name": "stdout",
     "output_type": "stream",
     "text": [
      "Frontal(AP/PA)/Lateral\n",
      "FrontalAP    169\n",
      "FrontalPA     33\n",
      "Lateral       32\n",
      "Name: count, dtype: int64\n"
     ]
    }
   ],
   "source": [
    "print(raw_valid_data_info[\"Frontal(AP/PA)/Lateral\"].value_counts())"
   ]
  }
 ],
 "metadata": {
  "kernelspec": {
   "display_name": "general_pytorch",
   "language": "python",
   "name": "python3"
  },
  "language_info": {
   "codemirror_mode": {
    "name": "ipython",
    "version": 3
   },
   "file_extension": ".py",
   "mimetype": "text/x-python",
   "name": "python",
   "nbconvert_exporter": "python",
   "pygments_lexer": "ipython3",
   "version": "3.11.5"
  }
 },
 "nbformat": 4,
 "nbformat_minor": 2
}
